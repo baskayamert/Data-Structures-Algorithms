{
 "cells": [
  {
   "cell_type": "code",
   "execution_count": 1,
   "id": "e91ae705",
   "metadata": {
    "scrolled": true
   },
   "outputs": [
    {
     "ename": "SyntaxError",
     "evalue": "invalid syntax (1050930926.py, line 1)",
     "output_type": "error",
     "traceback": [
      "\u001b[1;36m  Input \u001b[1;32mIn [1]\u001b[1;36m\u001b[0m\n\u001b[1;33m    BFS pseudocode (Wikipedia):\u001b[0m\n\u001b[1;37m        ^\u001b[0m\n\u001b[1;31mSyntaxError\u001b[0m\u001b[1;31m:\u001b[0m invalid syntax\n"
     ]
    }
   ],
   "source": [
    "BFS pseudocode (Wikipedia):\n",
    "\n",
    " 1  procedure BFS(G, root) is\n",
    " 2      let Q be a queue\n",
    " 3      label root as discovered\n",
    " 4      Q.enqueue(root)\n",
    " 5      while Q is not empty do\n",
    " 6          v := Q.dequeue()\n",
    " 7          if v is the goal then\n",
    " 8              return v\n",
    " 9          for all edges from v to w in G.adjacentEdges(v) do\n",
    "10              if w is not labeled as discovered then\n",
    "11                  label w as discovered\n",
    "12                  Q.enqueue(w)"
   ]
  },
  {
   "cell_type": "code",
   "execution_count": 46,
   "id": "b398a57f",
   "metadata": {},
   "outputs": [
    {
     "ename": "SyntaxError",
     "evalue": "invalid syntax (393946801.py, line 1)",
     "output_type": "error",
     "traceback": [
      "\u001b[1;36m  Input \u001b[1;32mIn [46]\u001b[1;36m\u001b[0m\n\u001b[1;33m    <img src=\"https://jovian.ai/embed?url=https://jovian.ai/aakashns/python-graph-algorithms/v/13&cellId=3\" title=\"Jovian Viewer\" height=\"376\" width=\"100%\" style=\"margin 0 auto; max-width: 800px;\" frameborder=\"0\" scrolling=\"auto\"></img>\u001b[0m\n\u001b[1;37m    ^\u001b[0m\n\u001b[1;31mSyntaxError\u001b[0m\u001b[1;31m:\u001b[0m invalid syntax\n"
     ]
    }
   ],
   "source": []
  },
  {
   "cell_type": "code",
   "execution_count": 62,
   "id": "9fe7aa5c",
   "metadata": {},
   "outputs": [
    {
     "data": {
      "text/plain": [
       "(5, 7)"
      ]
     },
     "execution_count": 62,
     "metadata": {},
     "output_type": "execute_result"
    }
   ],
   "source": [
    "num_nodes = 5\n",
    "edges = [(0, 1), (0, 4), (1, 2), (1, 3), (1, 4), (2, 3), (3,4)]\n",
    "num_nodes, len(edges)"
   ]
  },
  {
   "cell_type": "code",
   "execution_count": 77,
   "id": "80112021",
   "metadata": {},
   "outputs": [],
   "source": [
    "class Graph:\n",
    "    def __init__(self, num_nodes, edges):\n",
    "        self.num_nodes = num_nodes\n",
    "        self.data = [[] for _ in range(num_nodes)]\n",
    "        for n1, n2 in edges:\n",
    "            self.data[n1].append(n2)\n",
    "            self.data[n2].append(n1)\n",
    "    \n",
    "    def __repr__(self):\n",
    "        return '\\n'.join(['{}: {}'.format(n, neighbours) for n, neighbours in enumerate(self.data)])\n",
    "    \n",
    "    def __str__(self):\n",
    "        return self.__repr__()\n",
    "    \n",
    "    def __add_new_edges__(self, new_edges):\n",
    "        if type(new_edges) is list:\n",
    "            for n1, n2 in new_edges:\n",
    "                self.data[n1].append(n2)\n",
    "                self.data[n2].append(n1)\n",
    "        else:\n",
    "            self.data[new_edges[0]].append(new_edges[1])\n",
    "            self.data[new_edges[1]].append(new_edges[0])\n",
    "            \n",
    "    def __remove_edges__(self, new_edges):\n",
    "        if type(new_edges) is list:\n",
    "            for n1, n2 in new_edges:\n",
    "                self.data[n1].remove(n2)\n",
    "                self.data[n2].remove(n1)\n",
    "        else:\n",
    "            self.data[new_edges[0]].remove(new_edges[1])\n",
    "            self.data[new_edges[1]].remove(new_edges[0])\n",
    "                \n",
    "            \n",
    "        \n",
    "        \n",
    "        "
   ]
  },
  {
   "cell_type": "code",
   "execution_count": 78,
   "id": "92dc2118",
   "metadata": {},
   "outputs": [],
   "source": [
    "graph1 = Graph(num_nodes, edges)"
   ]
  },
  {
   "cell_type": "code",
   "execution_count": 79,
   "id": "4b9545a4",
   "metadata": {},
   "outputs": [
    {
     "name": "stdout",
     "output_type": "stream",
     "text": [
      "0: [1, 4]\n",
      "1: [0, 2, 3, 4]\n",
      "2: [1, 3]\n",
      "3: [1, 2, 4]\n",
      "4: [0, 1, 3]\n"
     ]
    }
   ],
   "source": [
    "print(graph1)"
   ]
  },
  {
   "cell_type": "code",
   "execution_count": 87,
   "id": "77b8b355",
   "metadata": {},
   "outputs": [
    {
     "data": {
      "text/plain": [
       "0: [1, 4, 2]\n",
       "1: [0, 2, 3, 4]\n",
       "2: [1, 3, 0]\n",
       "3: [1, 2, 4]\n",
       "4: [0, 1, 3]"
      ]
     },
     "execution_count": 87,
     "metadata": {},
     "output_type": "execute_result"
    }
   ],
   "source": [
    "ls = (0,2)\n",
    "graph1.__add_new_edges__(ls)\n",
    "graph1"
   ]
  },
  {
   "cell_type": "code",
   "execution_count": 88,
   "id": "d88f5e76",
   "metadata": {},
   "outputs": [
    {
     "data": {
      "text/plain": [
       "0: [4, 2]\n",
       "1: [2, 3, 4]\n",
       "2: [1, 3, 0]\n",
       "3: [1, 2, 4]\n",
       "4: [0, 1, 3]"
      ]
     },
     "execution_count": 88,
     "metadata": {},
     "output_type": "execute_result"
    }
   ],
   "source": [
    "ls = (0,1)\n",
    "graph1.__remove_edges__(ls)\n",
    "graph1"
   ]
  },
  {
   "cell_type": "code",
   "execution_count": 45,
   "id": "7bf3e829",
   "metadata": {},
   "outputs": [],
   "source": [
    "class Graph:\n",
    "    def __init__(self, num_nodes, edges):\n",
    "        self.num_nodes = num_nodes\n",
    "        self.data = [[0]*num_nodes for _ in range(num_nodes) ]\n",
    "        for n1, n2 in edges:\n",
    "            self.data[n1][n2] = 1\n",
    "            self.data[n2][n1] = 1\n",
    "              \n",
    "    \n",
    "    def __repr__(self):\n",
    "        tmp_str = '  '.join(['{}'.format(i) for i, _ in enumerate(graph1.data)])\n",
    "        tmp_str = '  ' + tmp_str\n",
    "        tmp_str2 = '\\n'.join(['{}{}'.format(n, neighbours) for n, neighbours in enumerate(self.data)])\n",
    "        return tmp_str + '\\n' + tmp_str2\n",
    "    \n",
    "    def __str__(self):\n",
    "        return self.__repr__()\n",
    "        "
   ]
  },
  {
   "cell_type": "code",
   "execution_count": 46,
   "id": "1a85ef1b",
   "metadata": {},
   "outputs": [],
   "source": [
    "num_nodes = 5\n",
    "edges = [(0, 1), (0, 4), (1, 2), (1, 3), (1, 4), (2, 3), (3,4)]\n",
    "num_nodes, len(edges)\n",
    "\n",
    "graph1 = Graph(num_nodes, edges)\n"
   ]
  },
  {
   "cell_type": "code",
   "execution_count": 47,
   "id": "8b1bc264",
   "metadata": {},
   "outputs": [
    {
     "name": "stdout",
     "output_type": "stream",
     "text": [
      "  0  1  2  3  4\n",
      "0[0, 1, 0, 0, 1]\n",
      "1[1, 0, 1, 1, 1]\n",
      "2[0, 1, 0, 1, 0]\n",
      "3[0, 1, 1, 0, 1]\n",
      "4[1, 1, 0, 1, 0]\n"
     ]
    }
   ],
   "source": [
    "print(graph1)"
   ]
  },
  {
   "cell_type": "code",
   "execution_count": 192,
   "id": "5638789b",
   "metadata": {},
   "outputs": [
    {
     "data": {
      "text/plain": [
       "'21321123'"
      ]
     },
     "execution_count": 192,
     "metadata": {},
     "output_type": "execute_result"
    }
   ],
   "source": [
    "BFS pseudocode (Wikipedia):\n",
    "\n",
    " 1  procedure BFS(G, root) is\n",
    " 2      let Q be a queue\n",
    " 3      label root as discovered\n",
    " 4      Q.enqueue(root)\n",
    " 5      while Q is not empty do\n",
    " 6          v := Q.dequeue()\n",
    " 7          if v is the goal then\n",
    " 8              return v\n",
    " 9          for all edges from v to w in G.adjacentEdges(v) do\n",
    "10              if w is not labeled as discovered then\n",
    "11                  label w as discovered\n",
    "12                  Q.enqueue(w)"
   ]
  },
  {
   "cell_type": "code",
   "execution_count": 240,
   "id": "534543f6",
   "metadata": {},
   "outputs": [],
   "source": [
    "def bfs(graph, root):\n",
    "    queue = []\n",
    "    discovered = [False] * len(graph.data)\n",
    "    distance = [None] * len(graph.data)\n",
    "    parent = [None] * len(graph.data)\n",
    "    \n",
    "    discovered[root] = True \n",
    "    queue.append(root)\n",
    "    distance[root] = 0\n",
    "    \n",
    "    idx = 0\n",
    "    \n",
    "    while idx < len(queue):\n",
    "        current = queue[idx]\n",
    "        \n",
    "        idx += 1\n",
    "        \n",
    "        for node in graph.data[current]:\n",
    "            if not discovered[node]:\n",
    "                discovered[node] = True\n",
    "                parent[node] = current\n",
    "                distance[node] = 1 + distance[current]\n",
    "                queue.append(node)\n",
    "    return queue, distance, parent\n",
    "    \n",
    "    \n",
    "    "
   ]
  },
  {
   "cell_type": "code",
   "execution_count": 241,
   "id": "d8ef5da8",
   "metadata": {},
   "outputs": [
    {
     "data": {
      "text/plain": [
       "([3, 1, 2, 4, 0], [2, 1, 1, 0, 1], [1, 3, 3, None, 3])"
      ]
     },
     "execution_count": 241,
     "metadata": {},
     "output_type": "execute_result"
    }
   ],
   "source": [
    "bfs(graph1,3)"
   ]
  },
  {
   "cell_type": "code",
   "execution_count": 236,
   "id": "c2c20a29",
   "metadata": {},
   "outputs": [
    {
     "data": {
      "text/plain": [
       "[[1, 4], [0, 2, 3, 4], [1, 3], [1, 2, 4], [0, 1, 3]]"
      ]
     },
     "execution_count": 236,
     "metadata": {},
     "output_type": "execute_result"
    }
   ],
   "source": [
    "graph1.data"
   ]
  },
  {
   "cell_type": "code",
   "execution_count": null,
   "id": "a6224d02",
   "metadata": {},
   "outputs": [],
   "source": [
    "DFS pseudocode (Wikipedia):\n",
    "\n",
    "procedure DFS_iterative(G, v) is\n",
    "    let S be a stack\n",
    "    S.push(v)\n",
    "    while S is not empty do\n",
    "        v = S.pop()\n",
    "        if v is not labeled as discovered then\n",
    "            label v as discovered\n",
    "            for all edges from v to w in G.adjacentEdges(v) do \n",
    "                S.push(w)\n",
    "                "
   ]
  },
  {
   "cell_type": "code",
   "execution_count": 55,
   "id": "d1ee1e64",
   "metadata": {},
   "outputs": [],
   "source": [
    "def dfs(graph, root):\n",
    "    stack = []\n",
    "    discovered = [False] * len(graph.data)\n",
    "    result = []\n",
    "    parent = [None] * len(graph.data)\n",
    "    \n",
    "    stack.append(root)\n",
    "    \n",
    "    \n",
    "    while len(stack) > 0:\n",
    "        current = stack.pop()\n",
    "        if not discovered[current]:\n",
    "            discovered[current] = True\n",
    "            result.append(current)\n",
    "            for node in graph.data[current]:\n",
    "                if not discovered[node]:\n",
    "                    stack.append(node)\n",
    "                    parent[node] = current\n",
    "    return result, parent\n",
    "            "
   ]
  },
  {
   "cell_type": "code",
   "execution_count": 56,
   "id": "d185f467",
   "metadata": {},
   "outputs": [
    {
     "data": {
      "text/plain": [
       "([0, 1], [None, 0, None, None, None])"
      ]
     },
     "execution_count": 56,
     "metadata": {},
     "output_type": "execute_result"
    }
   ],
   "source": [
    "dfs(graph1, 0)"
   ]
  },
  {
   "cell_type": "code",
   "execution_count": 66,
   "id": "aa8f3b13",
   "metadata": {},
   "outputs": [
    {
     "data": {
      "text/plain": [
       "0: [1, 4]\n",
       "1: [0, 2, 3, 4]\n",
       "2: [1, 3]\n",
       "3: [1, 2, 4]\n",
       "4: [0, 1, 3]"
      ]
     },
     "execution_count": 66,
     "metadata": {},
     "output_type": "execute_result"
    }
   ],
   "source": [
    "graph1\n"
   ]
  },
  {
   "cell_type": "code",
   "execution_count": 34,
   "id": "881bfe1c",
   "metadata": {},
   "outputs": [],
   "source": [
    "class Graph:\n",
    "    def __init__(self, num_nodes, edges, weighted=False, directed=False):\n",
    "        self.data = [[] for _ in range(num_nodes)]\n",
    "        self.weight = [[] for _ in range(num_nodes)]\n",
    "        \n",
    "        self.directed = directed\n",
    "        self.weighted = weighted\n",
    "        \n",
    "        for edge in edges:\n",
    "            if self.weighted:\n",
    "                node1, node2, weight = edge\n",
    "                self.data[node1].append(node2)\n",
    "                self.weight[node1].append(weight)\n",
    "                if not directed:\n",
    "                    self.data[node2].append(node1)\n",
    "                    self.weight[node2].append(weight)\n",
    "            else:\n",
    "                node1, node2 = edge\n",
    "                self.data[node1].append(node2)\n",
    "                if not directed:\n",
    "                    self.data[node2].append(node1)\n",
    "                    \n",
    "    def __repr__(self):\n",
    "        result = \"\"\n",
    "        if self.weighted:\n",
    "            for i, (nodes, weights) in enumerate(zip(self.data, self.weight)):\n",
    "                result += \"{}: {}\\n\".format(i, list(zip(nodes, weights)))\n",
    "        else:\n",
    "            for i, nodes in enumerate(self.data):\n",
    "                result += \"{}: {}\\n\".format(i, nodes)\n",
    "        return result\n",
    "\n",
    "    def __str__(self):\n",
    "        return repr(self)\n",
    "    \n",
    "    "
   ]
  },
  {
   "cell_type": "code",
   "execution_count": 35,
   "id": "d4e413f5",
   "metadata": {},
   "outputs": [
    {
     "data": {
      "text/plain": [
       "(9, 10)"
      ]
     },
     "execution_count": 35,
     "metadata": {},
     "output_type": "execute_result"
    }
   ],
   "source": [
    "# Graph with weights\n",
    "num_nodes2 = 9\n",
    "edges2 = [(0, 1, 3), (0, 3, 2), (0, 8, 4), (1, 7, 4), (2, 7, 2), (2, 3, 6), \n",
    "          (2, 5, 1), (3, 4, 1), (4, 8, 8), (5, 6, 8)]\n",
    "\n",
    "num_nodes2, len(edges2)"
   ]
  },
  {
   "cell_type": "code",
   "execution_count": 36,
   "id": "d59cb14f",
   "metadata": {},
   "outputs": [
    {
     "data": {
      "text/plain": [
       "0: [(1, 3), (3, 2), (8, 4)]\n",
       "1: [(0, 3), (7, 4)]\n",
       "2: [(7, 2), (3, 6), (5, 1)]\n",
       "3: [(0, 2), (2, 6), (4, 1)]\n",
       "4: [(3, 1), (8, 8)]\n",
       "5: [(2, 1), (6, 8)]\n",
       "6: [(5, 8)]\n",
       "7: [(1, 4), (2, 2)]\n",
       "8: [(0, 4), (4, 8)]"
      ]
     },
     "execution_count": 36,
     "metadata": {},
     "output_type": "execute_result"
    }
   ],
   "source": [
    "graph2 = Graph(num_nodes2, edges2, weighted=True)\n",
    "graph2"
   ]
  },
  {
   "cell_type": "code",
   "execution_count": 38,
   "id": "4f9ba828",
   "metadata": {},
   "outputs": [
    {
     "data": {
      "text/plain": [
       "(5, 6)"
      ]
     },
     "execution_count": 38,
     "metadata": {},
     "output_type": "execute_result"
    }
   ],
   "source": [
    "num_nodes3 = 5\n",
    "edges3= [(0, 1), (1, 2), (2, 3), (2, 4), (4, 2), (3, 0)]\n",
    "num_nodes3, len(edges3)"
   ]
  },
  {
   "cell_type": "code",
   "execution_count": 40,
   "id": "c2a209a0",
   "metadata": {},
   "outputs": [
    {
     "data": {
      "text/plain": [
       "0: [1]\n",
       "1: [2]\n",
       "2: [3, 4]\n",
       "3: [0]\n",
       "4: [2]"
      ]
     },
     "execution_count": 40,
     "metadata": {},
     "output_type": "execute_result"
    }
   ],
   "source": [
    "graph3 = Graph(num_nodes3, edges3, directed=True)\n",
    "graph3"
   ]
  },
  {
   "cell_type": "code",
   "execution_count": 41,
   "id": "44b1d6d4",
   "metadata": {},
   "outputs": [],
   "source": [
    "def update_distances(graph, current, distance, parent=None):\n",
    "    \"\"\"Update the distances of the current node's neighbors\"\"\"\n",
    "    neighbors = graph.data[current]\n",
    "    weights = graph.weight[current]\n",
    "    for i, node in enumerate(neighbors):\n",
    "        weight = weights[i]\n",
    "        if distance[current] + weight < distance[node]:\n",
    "            distance[node] = distance[current] + weight\n",
    "            if parent:\n",
    "                parent[node] = current\n",
    "\n",
    "def pick_next_node(distance, visited):\n",
    "    \"\"\"Pick the next univisited node at the smallest distance\"\"\"\n",
    "    min_distance = float('inf')\n",
    "    min_node = None\n",
    "    for node in range(len(distance)):\n",
    "        if not visited[node] and distance[node] < min_distance:\n",
    "            min_node = node\n",
    "            min_distance = distance[node]\n",
    "    return min_node\n",
    "        \n",
    "def shortest_path(graph, source, dest):\n",
    "    \"\"\"Find the length of the shortest path between source and destination\"\"\"\n",
    "    visited = [False] * len(graph.data)\n",
    "    distance = [float('inf')] * len(graph.data)\n",
    "    parent = [None] * len(graph.data)\n",
    "    queue = []\n",
    "    idx = 0\n",
    "    \n",
    "    queue.append(source)\n",
    "    distance[source] = 0\n",
    "    visited[source] = True\n",
    "    \n",
    "    while idx < len(queue) and not visited[dest]:\n",
    "        current = queue[idx]\n",
    "        update_distances(graph, current, distance, parent)\n",
    "        \n",
    "        next_node = pick_next_node(distance, visited)\n",
    "        if next_node is not None:\n",
    "            visited[next_node] = True\n",
    "            queue.append(next_node)\n",
    "        idx += 1\n",
    "        \n",
    "    return distance[dest], distance, parent"
   ]
  },
  {
   "cell_type": "code",
   "execution_count": 42,
   "id": "cd311b6c",
   "metadata": {},
   "outputs": [
    {
     "data": {
      "text/plain": [
       "(6, 7)"
      ]
     },
     "execution_count": 42,
     "metadata": {},
     "output_type": "execute_result"
    }
   ],
   "source": [
    "num_nodes3 = 6\n",
    "edges3 = [(0, 1, 4), (0, 2, 2), (1, 2, 5), (1, 3, 10), (2, 4, 3), (4, 3, 4), (3, 5, 11)]\n",
    "num_nodes3, len(edges3)"
   ]
  },
  {
   "cell_type": "code",
   "execution_count": 43,
   "id": "2433b8d6",
   "metadata": {},
   "outputs": [],
   "source": [
    "graph4 = Graph(num_nodes3, edges3, directed=True, weighted = True)"
   ]
  },
  {
   "cell_type": "code",
   "execution_count": 44,
   "id": "ba6720f7",
   "metadata": {},
   "outputs": [
    {
     "data": {
      "text/plain": [
       "(20, [0, 4, 2, 9, 5, 20], [None, 0, 0, 4, 2, 3])"
      ]
     },
     "execution_count": 44,
     "metadata": {},
     "output_type": "execute_result"
    }
   ],
   "source": [
    "shortest_path(graph4, 0, 5)"
   ]
  },
  {
   "cell_type": "code",
   "execution_count": null,
   "id": "ee0fba08",
   "metadata": {},
   "outputs": [],
   "source": []
  }
 ],
 "metadata": {
  "kernelspec": {
   "display_name": "Python 3 (ipykernel)",
   "language": "python",
   "name": "python3"
  },
  "language_info": {
   "codemirror_mode": {
    "name": "ipython",
    "version": 3
   },
   "file_extension": ".py",
   "mimetype": "text/x-python",
   "name": "python",
   "nbconvert_exporter": "python",
   "pygments_lexer": "ipython3",
   "version": "3.9.12"
  }
 },
 "nbformat": 4,
 "nbformat_minor": 5
}
